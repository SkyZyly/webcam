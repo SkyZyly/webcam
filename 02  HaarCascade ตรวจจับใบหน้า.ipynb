{
 "cells": [
  {
   "cell_type": "code",
   "execution_count": 8,
   "metadata": {},
   "outputs": [
    {
     "name": "stdout",
     "output_type": "stream",
     "text": [
      "Requirement already satisfied: opencv-python in c:\\users\\user\\anaconda3\\lib\\site-packages (4.8.1.78)\n",
      "Requirement already satisfied: numpy>=1.21.2 in c:\\users\\user\\anaconda3\\lib\\site-packages (from opencv-python) (1.24.3)\n"
     ]
    }
   ],
   "source": [
    "!pip install opencv-python"
   ]
  },
  {
   "cell_type": "code",
   "execution_count": 11,
   "metadata": {},
   "outputs": [],
   "source": [
    "import cv2"
   ]
  },
  {
   "cell_type": "code",
   "execution_count": 12,
   "metadata": {},
   "outputs": [],
   "source": [
    "cascade = cv2.CascadeClassifier('haarcascade_frontalface_default.xml')"
   ]
  },
  {
   "cell_type": "code",
   "execution_count": 13,
   "metadata": {
    "scrolled": true
   },
   "outputs": [
    {
     "data": {
      "text/plain": [
       "array([[[153, 135, 125],\n",
       "        [145, 131, 129],\n",
       "        [135, 125, 130],\n",
       "        ...,\n",
       "        [168, 150, 165],\n",
       "        [171, 160, 170],\n",
       "        [174, 162, 172]],\n",
       "\n",
       "       [[147, 135, 118],\n",
       "        [138, 128, 120],\n",
       "        [132, 123, 123],\n",
       "        ...,\n",
       "        [171, 153, 165],\n",
       "        [171, 162, 163],\n",
       "        [174, 164, 165]],\n",
       "\n",
       "       [[150, 135, 130],\n",
       "        [141, 132, 126],\n",
       "        [130, 127, 120],\n",
       "        ...,\n",
       "        [156, 150, 147],\n",
       "        [160, 157, 151],\n",
       "        [165, 162, 155]],\n",
       "\n",
       "       ...,\n",
       "\n",
       "       [[ 84,  99,  64],\n",
       "        [ 72,  85,  67],\n",
       "        [ 60,  72,  71],\n",
       "        ...,\n",
       "        [150, 114, 102],\n",
       "        [146, 115,  84],\n",
       "        [150, 118,  87]],\n",
       "\n",
       "       [[ 77,  86,  45],\n",
       "        [ 62,  78,  50],\n",
       "        [ 48,  70,  56],\n",
       "        ...,\n",
       "        [144, 114,  99],\n",
       "        [153, 111,  85],\n",
       "        [153, 111,  85]],\n",
       "\n",
       "       [[ 66,  75,  63],\n",
       "        [ 56,  71,  60],\n",
       "        [ 45,  65,  56],\n",
       "        ...,\n",
       "        [149, 119,  81],\n",
       "        [143, 110,  84],\n",
       "        [150, 117,  91]]], dtype=uint8)"
      ]
     },
     "execution_count": 13,
     "metadata": {},
     "output_type": "execute_result"
    }
   ],
   "source": [
    "webcam = cv2.VideoCapture(0)\n",
    "success, image = webcam.read()\n",
    "image"
   ]
  },
  {
   "cell_type": "code",
   "execution_count": 14,
   "metadata": {},
   "outputs": [],
   "source": [
    "gray = cv2.cvtColor(image,cv2.COLOR_BGR2GRAY)"
   ]
  },
  {
   "cell_type": "code",
   "execution_count": 15,
   "metadata": {},
   "outputs": [
    {
     "data": {
      "text/plain": [
       "array([[289, 207, 118, 118]])"
      ]
     },
     "execution_count": 15,
     "metadata": {},
     "output_type": "execute_result"
    }
   ],
   "source": [
    "cascade.detectMultiScale(gray)"
   ]
  },
  {
   "cell_type": "code",
   "execution_count": 16,
   "metadata": {},
   "outputs": [],
   "source": [
    "webcam.release()"
   ]
  }
 ],
 "metadata": {
  "kernelspec": {
   "display_name": "Python 3 (ipykernel)",
   "language": "python",
   "name": "python3"
  },
  "language_info": {
   "codemirror_mode": {
    "name": "ipython",
    "version": 3
   },
   "file_extension": ".py",
   "mimetype": "text/x-python",
   "name": "python",
   "nbconvert_exporter": "python",
   "pygments_lexer": "ipython3",
   "version": "3.11.5"
  }
 },
 "nbformat": 4,
 "nbformat_minor": 4
}
