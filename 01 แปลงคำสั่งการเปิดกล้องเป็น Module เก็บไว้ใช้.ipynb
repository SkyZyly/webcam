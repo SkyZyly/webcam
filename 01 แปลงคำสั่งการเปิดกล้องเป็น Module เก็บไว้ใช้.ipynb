{
 "cells": [
  {
   "cell_type": "code",
   "execution_count": 1,
   "metadata": {},
   "outputs": [],
   "source": [
    "from run_webcam import run_webcam"
   ]
  },
  {
   "cell_type": "code",
   "execution_count": 2,
   "metadata": {},
   "outputs": [],
   "source": [
    "import cv2"
   ]
  },
  {
   "cell_type": "code",
   "execution_count": 3,
   "metadata": {},
   "outputs": [],
   "source": [
    "webcam = cv2.VideoCapture(0)\n",
    "condition = True\n",
    "while condition :\n",
    "    success, image = webcam.read()\n",
    "    condition = run_webcam(image)\n",
    "webcam.release()"
   ]
  },
  {
   "cell_type": "code",
   "execution_count": null,
   "metadata": {},
   "outputs": [],
   "source": [
    "import cv2"
   ]
  },
  {
   "cell_type": "code",
   "execution_count": null,
   "metadata": {
    "scrolled": true
   },
   "outputs": [],
   "source": [
    "webcam = cv2.VideoCapture(0)\n",
    "condition = True\n",
    "\n",
    "while condition:\n",
    "    success, image = webcam.read()\n",
    "    cv2.imshow(\"Webcam\",image)\n",
    "    cv2.waitKey(1)\n",
    "    value = cv2.getWindowProperty(\"Webcam\", cv2.WND_PROP_VISIBLE)\n",
    "    if value < 1:\n",
    "        condition = False\n",
    "\n",
    "webcam.release()"
   ]
  },
  {
   "cell_type": "code",
   "execution_count": 3,
   "metadata": {},
   "outputs": [],
   "source": [
    "def run_webcam(image):\n",
    "    cv2.imshow(\"Webcam\",image)\n",
    "    cv2.waitKey(1)\n",
    "    value = cv2.getWindowProperty(\"Webcam\", cv2.WND_PROP_VISIBLE)\n",
    "    if value < 1:\n",
    "        return False\n",
    "    return True        "
   ]
  },
  {
   "cell_type": "code",
   "execution_count": 4,
   "metadata": {},
   "outputs": [],
   "source": [
    "webcam = cv2.VideoCapture(0)\n",
    "condition = True\n",
    "\n",
    "while condition:\n",
    "    success, image = webcam.read()\n",
    "    condition = run_webcam(image)\n",
    "\n",
    "webcam.release()"
   ]
  }
 ],
 "metadata": {
  "kernelspec": {
   "display_name": "Python 3 (ipykernel)",
   "language": "python",
   "name": "python3"
  },
  "language_info": {
   "codemirror_mode": {
    "name": "ipython",
    "version": 3
   },
   "file_extension": ".py",
   "mimetype": "text/x-python",
   "name": "python",
   "nbconvert_exporter": "python",
   "pygments_lexer": "ipython3",
   "version": "3.11.5"
  }
 },
 "nbformat": 4,
 "nbformat_minor": 4
}
