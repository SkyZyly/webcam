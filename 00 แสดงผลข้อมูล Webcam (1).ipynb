{
 "cells": [
  {
   "cell_type": "code",
   "execution_count": 1,
   "metadata": {},
   "outputs": [
    {
     "name": "stdout",
     "output_type": "stream",
     "text": [
      "Requirement already satisfied: opencv-python in c:\\users\\acer\\anaconda3\\lib\\site-packages (4.5.2.52)\n",
      "Requirement already satisfied: numpy>=1.14.5 in c:\\users\\acer\\anaconda3\\lib\\site-packages (from opencv-python) (1.19.5)\n"
     ]
    }
   ],
   "source": [
    "!pip install opencv-python"
   ]
  },
  {
   "cell_type": "code",
   "execution_count": 3,
   "metadata": {},
   "outputs": [],
   "source": [
    "import cv2"
   ]
  },
  {
   "cell_type": "code",
   "execution_count": 3,
   "metadata": {},
   "outputs": [
    {
     "data": {
      "text/plain": [
       "< cv2.VideoCapture 000001ACBBC25830>"
      ]
     },
     "execution_count": 3,
     "metadata": {},
     "output_type": "execute_result"
    }
   ],
   "source": [
    "webcam = cv2.VideoCapture(0)\n",
    "webcam"
   ]
  },
  {
   "cell_type": "code",
   "execution_count": 4,
   "metadata": {
    "scrolled": true
   },
   "outputs": [
    {
     "data": {
      "text/plain": [
       "(True,\n",
       " array([[[130, 135, 116],\n",
       "         [121, 130, 106],\n",
       "         [109, 123,  92],\n",
       "         ...,\n",
       "         [128, 117, 158],\n",
       "         [143, 118, 191],\n",
       "         [132, 106, 179]],\n",
       " \n",
       "        [[123, 133,  70],\n",
       "         [126, 123,  89],\n",
       "         [125, 111, 105],\n",
       "         ...,\n",
       "         [128, 123, 161],\n",
       "         [129, 122, 182],\n",
       "         [129, 122, 182]],\n",
       " \n",
       "        [[137, 132,  83],\n",
       "         [143, 127,  94],\n",
       "         [141, 113,  97],\n",
       "         ...,\n",
       "         [135, 116, 153],\n",
       "         [131, 121, 166],\n",
       "         [121, 111, 155]],\n",
       " \n",
       "        ...,\n",
       " \n",
       "        [[ 96, 110, 129],\n",
       "         [ 96,  92, 105],\n",
       "         [107,  85,  92],\n",
       "         ...,\n",
       "         [143, 111,  72],\n",
       "         [142, 112,  74],\n",
       "         [143, 113,  75]],\n",
       " \n",
       "        [[ 87,  95, 110],\n",
       "         [ 94,  94, 102],\n",
       "         [101,  92,  93],\n",
       "         ...,\n",
       "         [144, 110,  68],\n",
       "         [145, 111,  69],\n",
       "         [144, 110,  68]],\n",
       " \n",
       "        [[ 88,  77, 155],\n",
       "         [ 96,  82, 124],\n",
       "         [102,  85,  91],\n",
       "         ...,\n",
       "         [145, 111,  82],\n",
       "         [151, 108, 105],\n",
       "         [148, 106, 103]]], dtype=uint8))"
      ]
     },
     "execution_count": 4,
     "metadata": {},
     "output_type": "execute_result"
    }
   ],
   "source": [
    "success, image = webcam.read()\n",
    "success, image"
   ]
  },
  {
   "cell_type": "code",
   "execution_count": null,
   "metadata": {},
   "outputs": [],
   "source": [
    "cv2.imshow('Webcam',image)\n",
    "cv2.waitKey(0)\n",
    "cv2.destroyAllWindows()"
   ]
  },
  {
   "cell_type": "code",
   "execution_count": null,
   "metadata": {},
   "outputs": [],
   "source": [
    "webcam.release()"
   ]
  },
  {
   "cell_type": "code",
   "execution_count": 11,
   "metadata": {},
   "outputs": [],
   "source": [
    "webcam.release()"
   ]
  },
  {
   "cell_type": "code",
   "execution_count": null,
   "metadata": {},
   "outputs": [],
   "source": [
    "webcam = cv2.VideoCapture(0)\n",
    "while True:\n",
    "    success, image = webcam.read()\n",
    "    cv2.imshow('Webcam',image)\n",
    "    cv2.waitKey(1)\n",
    "cv2.destroyAllWindows()\n",
    "webcam.release()"
   ]
  },
  {
   "cell_type": "code",
   "execution_count": 2,
   "metadata": {},
   "outputs": [],
   "source": [
    "webcam = cv2.VideoCapture(0)\n",
    "condition = True\n",
    "    \n",
    "while condition : \n",
    "        success, image = webcam.read()\n",
    "        cv2.imshow(\"Webcam\",image)\n",
    "        cv2.waitKey(1)\n",
    "        value = cv2.getWindowProperty(\"Webcam\",cv2.WND_PROP_VISIBLE)\n",
    "        if value < 1:\n",
    "            condition = False\n",
    "\n",
    "webcam.release()"
   ]
  },
  {
   "cell_type": "code",
   "execution_count": 1,
   "metadata": {},
   "outputs": [],
   "source": [
    "def run_webcam(image):\n",
    "        cv2.imshow(\"Webcam\",image)\n",
    "        cv2.waitKey(1)\n",
    "        value = cv2.getWindowProperty(\"Webcam\",cv2.WND_PROP_VISIBLE)\n",
    "        if value < 1:\n",
    "            return False\n",
    "        return True"
   ]
  },
  {
   "cell_type": "code",
   "execution_count": 4,
   "metadata": {},
   "outputs": [],
   "source": [
    "webcam = cv2.VideoCapture(0)\n",
    "condition = True\n",
    "    \n",
    "while condition : \n",
    "        success, image = webcam.read()\n",
    "        condition = run_webcam(image)\n",
    "\n",
    "webcam.release()"
   ]
  }
 ],
 "metadata": {
  "kernelspec": {
   "display_name": "Python 3 (ipykernel)",
   "language": "python",
   "name": "python3"
  },
  "language_info": {
   "codemirror_mode": {
    "name": "ipython",
    "version": 3
   },
   "file_extension": ".py",
   "mimetype": "text/x-python",
   "name": "python",
   "nbconvert_exporter": "python",
   "pygments_lexer": "ipython3",
   "version": "3.11.5"
  }
 },
 "nbformat": 4,
 "nbformat_minor": 4
}
